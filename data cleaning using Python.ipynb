{
 "cells": [
  {
   "cell_type": "code",
   "execution_count": 4,
   "id": "94e5a84c",
   "metadata": {},
   "outputs": [],
   "source": [
    "import pandas as pd"
   ]
  },
  {
   "cell_type": "code",
   "execution_count": 6,
   "id": "2f0fa381",
   "metadata": {},
   "outputs": [],
   "source": [
    "a=pd.read_csv(\"ranom.csv\")"
   ]
  },
  {
   "cell_type": "code",
   "execution_count": 7,
   "id": "c03cd765",
   "metadata": {},
   "outputs": [
    {
     "data": {
      "text/html": [
       "<div>\n",
       "<style scoped>\n",
       "    .dataframe tbody tr th:only-of-type {\n",
       "        vertical-align: middle;\n",
       "    }\n",
       "\n",
       "    .dataframe tbody tr th {\n",
       "        vertical-align: top;\n",
       "    }\n",
       "\n",
       "    .dataframe thead th {\n",
       "        text-align: right;\n",
       "    }\n",
       "</style>\n",
       "<table border=\"1\" class=\"dataframe\">\n",
       "  <thead>\n",
       "    <tr style=\"text-align: right;\">\n",
       "      <th></th>\n",
       "      <th>name</th>\n",
       "      <th>phone</th>\n",
       "      <th>email</th>\n",
       "      <th>address</th>\n",
       "      <th>postalZip</th>\n",
       "      <th>region</th>\n",
       "      <th>numberrange</th>\n",
       "      <th>country</th>\n",
       "      <th>currency</th>\n",
       "    </tr>\n",
       "  </thead>\n",
       "  <tbody>\n",
       "    <tr>\n",
       "      <th>0</th>\n",
       "      <td>Leandra Wiley</td>\n",
       "      <td>(985) 619-1145</td>\n",
       "      <td>morbi.tristique@aol.net</td>\n",
       "      <td>185 Velit Avenue</td>\n",
       "      <td>741552</td>\n",
       "      <td>Rogaland</td>\n",
       "      <td>1</td>\n",
       "      <td>Austria</td>\n",
       "      <td>$14.26</td>\n",
       "    </tr>\n",
       "    <tr>\n",
       "      <th>1</th>\n",
       "      <td>Demetrius Walters</td>\n",
       "      <td>(751) 122-4195</td>\n",
       "      <td>et.euismod@outlook.org</td>\n",
       "      <td>959-3029 Pede Rd.</td>\n",
       "      <td>187158</td>\n",
       "      <td>Central Sulawesi</td>\n",
       "      <td>7</td>\n",
       "      <td>Colombia</td>\n",
       "      <td>$78.72</td>\n",
       "    </tr>\n",
       "    <tr>\n",
       "      <th>2</th>\n",
       "      <td>Kibo Fox</td>\n",
       "      <td>1-478-833-8145</td>\n",
       "      <td>enim.mi.tempor@icloud.org</td>\n",
       "      <td>807-7840 Luctus Rd.</td>\n",
       "      <td>561193</td>\n",
       "      <td>Veracruz</td>\n",
       "      <td>2</td>\n",
       "      <td>France</td>\n",
       "      <td>$17.29</td>\n",
       "    </tr>\n",
       "    <tr>\n",
       "      <th>3</th>\n",
       "      <td>Nora Poole</td>\n",
       "      <td>(518) 346-8444</td>\n",
       "      <td>massa.integer@outlook.org</td>\n",
       "      <td>Ap #634-7077 Arcu. Road</td>\n",
       "      <td>02-772</td>\n",
       "      <td>Alsace</td>\n",
       "      <td>3</td>\n",
       "      <td>France</td>\n",
       "      <td>$39.44</td>\n",
       "    </tr>\n",
       "    <tr>\n",
       "      <th>4</th>\n",
       "      <td>Silas Francis</td>\n",
       "      <td>1-575-591-8431</td>\n",
       "      <td>eu.sem@yahoo.net</td>\n",
       "      <td>Ap #935-1910 Ac Street</td>\n",
       "      <td>53792</td>\n",
       "      <td>Xīběi</td>\n",
       "      <td>2</td>\n",
       "      <td>Indonesia</td>\n",
       "      <td>$48.61</td>\n",
       "    </tr>\n",
       "  </tbody>\n",
       "</table>\n",
       "</div>"
      ],
      "text/plain": [
       "                name           phone                      email  \\\n",
       "0      Leandra Wiley  (985) 619-1145    morbi.tristique@aol.net   \n",
       "1  Demetrius Walters  (751) 122-4195     et.euismod@outlook.org   \n",
       "2           Kibo Fox  1-478-833-8145  enim.mi.tempor@icloud.org   \n",
       "3         Nora Poole  (518) 346-8444  massa.integer@outlook.org   \n",
       "4      Silas Francis  1-575-591-8431           eu.sem@yahoo.net   \n",
       "\n",
       "                   address postalZip            region  numberrange  \\\n",
       "0         185 Velit Avenue    741552          Rogaland            1   \n",
       "1        959-3029 Pede Rd.    187158  Central Sulawesi            7   \n",
       "2      807-7840 Luctus Rd.    561193          Veracruz            2   \n",
       "3  Ap #634-7077 Arcu. Road    02-772            Alsace            3   \n",
       "4   Ap #935-1910 Ac Street     53792             Xīběi            2   \n",
       "\n",
       "     country currency  \n",
       "0    Austria   $14.26  \n",
       "1   Colombia   $78.72  \n",
       "2     France   $17.29  \n",
       "3     France   $39.44  \n",
       "4  Indonesia   $48.61  "
      ]
     },
     "execution_count": 7,
     "metadata": {},
     "output_type": "execute_result"
    }
   ],
   "source": [
    "a.head()"
   ]
  },
  {
   "cell_type": "code",
   "execution_count": 8,
   "id": "05c20fec",
   "metadata": {},
   "outputs": [
    {
     "data": {
      "text/plain": [
       "Index(['name', 'phone', 'email', 'address', 'postalZip', 'region',\n",
       "       'numberrange', 'country', 'currency'],\n",
       "      dtype='object')"
      ]
     },
     "execution_count": 8,
     "metadata": {},
     "output_type": "execute_result"
    }
   ],
   "source": [
    "a.columns"
   ]
  },
  {
   "cell_type": "code",
   "execution_count": 10,
   "id": "1eb86ae5",
   "metadata": {},
   "outputs": [
    {
     "data": {
      "text/plain": [
       "array(['name', 'phone', 'email', 'address', 'postalZip', 'region',\n",
       "       'numberrange', 'country', 'currency'], dtype=object)"
      ]
     },
     "execution_count": 10,
     "metadata": {},
     "output_type": "execute_result"
    }
   ],
   "source": [
    "a.columns.values"
   ]
  },
  {
   "cell_type": "code",
   "execution_count": 11,
   "id": "54ffbc9c",
   "metadata": {},
   "outputs": [
    {
     "data": {
      "text/plain": [
       "['name',\n",
       " 'phone',\n",
       " 'email',\n",
       " 'address',\n",
       " 'postalZip',\n",
       " 'region',\n",
       " 'numberrange',\n",
       " 'country',\n",
       " 'currency']"
      ]
     },
     "execution_count": 11,
     "metadata": {},
     "output_type": "execute_result"
    }
   ],
   "source": [
    "a.columns.tolist()"
   ]
  },
  {
   "cell_type": "code",
   "execution_count": 12,
   "id": "2066fe05",
   "metadata": {},
   "outputs": [
    {
     "data": {
      "text/plain": [
       "Index(['name', 'phone', 'email', 'address', 'postalZip', 'region',\n",
       "       'numberrange', 'country', 'currency'],\n",
       "      dtype='object')"
      ]
     },
     "execution_count": 12,
     "metadata": {},
     "output_type": "execute_result"
    }
   ],
   "source": [
    "a.columns.view()"
   ]
  },
  {
   "cell_type": "code",
   "execution_count": 14,
   "id": "91bff1da",
   "metadata": {},
   "outputs": [
    {
     "data": {
      "text/plain": [
       "name                  name\n",
       "phone                phone\n",
       "email                email\n",
       "address            address\n",
       "postalZip        postalZip\n",
       "region              region\n",
       "numberrange    numberrange\n",
       "country            country\n",
       "currency          currency\n",
       "dtype: object"
      ]
     },
     "execution_count": 14,
     "metadata": {},
     "output_type": "execute_result"
    }
   ],
   "source": [
    "a.columns.to_series()"
   ]
  },
  {
   "cell_type": "code",
   "execution_count": 15,
   "id": "daaea0a4",
   "metadata": {},
   "outputs": [
    {
     "data": {
      "text/html": [
       "<div>\n",
       "<style scoped>\n",
       "    .dataframe tbody tr th:only-of-type {\n",
       "        vertical-align: middle;\n",
       "    }\n",
       "\n",
       "    .dataframe tbody tr th {\n",
       "        vertical-align: top;\n",
       "    }\n",
       "\n",
       "    .dataframe thead th {\n",
       "        text-align: right;\n",
       "    }\n",
       "</style>\n",
       "<table border=\"1\" class=\"dataframe\">\n",
       "  <thead>\n",
       "    <tr style=\"text-align: right;\">\n",
       "      <th></th>\n",
       "      <th>0</th>\n",
       "    </tr>\n",
       "  </thead>\n",
       "  <tbody>\n",
       "    <tr>\n",
       "      <th>name</th>\n",
       "      <td>name</td>\n",
       "    </tr>\n",
       "    <tr>\n",
       "      <th>phone</th>\n",
       "      <td>phone</td>\n",
       "    </tr>\n",
       "    <tr>\n",
       "      <th>email</th>\n",
       "      <td>email</td>\n",
       "    </tr>\n",
       "    <tr>\n",
       "      <th>address</th>\n",
       "      <td>address</td>\n",
       "    </tr>\n",
       "    <tr>\n",
       "      <th>postalZip</th>\n",
       "      <td>postalZip</td>\n",
       "    </tr>\n",
       "    <tr>\n",
       "      <th>region</th>\n",
       "      <td>region</td>\n",
       "    </tr>\n",
       "    <tr>\n",
       "      <th>numberrange</th>\n",
       "      <td>numberrange</td>\n",
       "    </tr>\n",
       "    <tr>\n",
       "      <th>country</th>\n",
       "      <td>country</td>\n",
       "    </tr>\n",
       "    <tr>\n",
       "      <th>currency</th>\n",
       "      <td>currency</td>\n",
       "    </tr>\n",
       "  </tbody>\n",
       "</table>\n",
       "</div>"
      ],
      "text/plain": [
       "                       0\n",
       "name                name\n",
       "phone              phone\n",
       "email              email\n",
       "address          address\n",
       "postalZip      postalZip\n",
       "region            region\n",
       "numberrange  numberrange\n",
       "country          country\n",
       "currency        currency"
      ]
     },
     "execution_count": 15,
     "metadata": {},
     "output_type": "execute_result"
    }
   ],
   "source": [
    "a.columns.to_frame()"
   ]
  },
  {
   "cell_type": "code",
   "execution_count": 16,
   "id": "9840bd5d",
   "metadata": {},
   "outputs": [
    {
     "data": {
      "text/plain": [
       "array([False, False, False, False, False, False, False, False, False])"
      ]
     },
     "execution_count": 16,
     "metadata": {},
     "output_type": "execute_result"
    }
   ],
   "source": [
    "a.columns.duplicated()"
   ]
  },
  {
   "cell_type": "code",
   "execution_count": 18,
   "id": "cd62edb8",
   "metadata": {},
   "outputs": [
    {
     "data": {
      "text/plain": [
       "Index(['NAME', 'PHONE', 'EMAIL', 'ADDRESS', 'POSTALZIP', 'REGION',\n",
       "       'NUMBERRANGE', 'COUNTRY', 'CURRENCY'],\n",
       "      dtype='object')"
      ]
     },
     "execution_count": 18,
     "metadata": {},
     "output_type": "execute_result"
    }
   ],
   "source": [
    "a.columns.str.upper()"
   ]
  },
  {
   "cell_type": "code",
   "execution_count": 19,
   "id": "1560b045",
   "metadata": {},
   "outputs": [
    {
     "data": {
      "text/plain": [
       "Index(['Name', 'Phone', 'Email', 'Address', 'Postalzip', 'Region',\n",
       "       'Numberrange', 'Country', 'Currency'],\n",
       "      dtype='object')"
      ]
     },
     "execution_count": 19,
     "metadata": {},
     "output_type": "execute_result"
    }
   ],
   "source": [
    "a.columns.str.title()"
   ]
  },
  {
   "cell_type": "code",
   "execution_count": 22,
   "id": "b07b5511",
   "metadata": {},
   "outputs": [],
   "source": [
    "#a.columns.str.replace(\"\",\"_\")"
   ]
  },
  {
   "cell_type": "code",
   "execution_count": 29,
   "id": "5a2c30bc",
   "metadata": {},
   "outputs": [
    {
     "data": {
      "text/html": [
       "<div>\n",
       "<style scoped>\n",
       "    .dataframe tbody tr th:only-of-type {\n",
       "        vertical-align: middle;\n",
       "    }\n",
       "\n",
       "    .dataframe tbody tr th {\n",
       "        vertical-align: top;\n",
       "    }\n",
       "\n",
       "    .dataframe thead th {\n",
       "        text-align: right;\n",
       "    }\n",
       "</style>\n",
       "<table border=\"1\" class=\"dataframe\">\n",
       "  <thead>\n",
       "    <tr style=\"text-align: right;\">\n",
       "      <th></th>\n",
       "      <th>name</th>\n",
       "      <th>phone</th>\n",
       "      <th>email</th>\n",
       "      <th>address</th>\n",
       "      <th>postalZip</th>\n",
       "      <th>region</th>\n",
       "      <th>numberrange</th>\n",
       "      <th>country</th>\n",
       "      <th>currency</th>\n",
       "    </tr>\n",
       "  </thead>\n",
       "  <tbody>\n",
       "    <tr>\n",
       "      <th>0</th>\n",
       "      <td>Leandra Wiley</td>\n",
       "      <td>(985) 619-1145</td>\n",
       "      <td>morbi.tristique@aol.net</td>\n",
       "      <td>185 Velit Avenue</td>\n",
       "      <td>741552</td>\n",
       "      <td>Rogaland</td>\n",
       "      <td>1</td>\n",
       "      <td>Austria</td>\n",
       "      <td>$14.26</td>\n",
       "    </tr>\n",
       "    <tr>\n",
       "      <th>1</th>\n",
       "      <td>Demetrius Walters</td>\n",
       "      <td>(751) 122-4195</td>\n",
       "      <td>et.euismod@outlook.org</td>\n",
       "      <td>959-3029 Pede Rd.</td>\n",
       "      <td>187158</td>\n",
       "      <td>Central Sulawesi</td>\n",
       "      <td>7</td>\n",
       "      <td>Colombia</td>\n",
       "      <td>$78.72</td>\n",
       "    </tr>\n",
       "    <tr>\n",
       "      <th>2</th>\n",
       "      <td>Kibo Fox</td>\n",
       "      <td>1-478-833-8145</td>\n",
       "      <td>enim.mi.tempor@icloud.org</td>\n",
       "      <td>807-7840 Luctus Rd.</td>\n",
       "      <td>561193</td>\n",
       "      <td>Veracruz</td>\n",
       "      <td>2</td>\n",
       "      <td>France</td>\n",
       "      <td>$17.29</td>\n",
       "    </tr>\n",
       "    <tr>\n",
       "      <th>3</th>\n",
       "      <td>Nora Poole</td>\n",
       "      <td>(518) 346-8444</td>\n",
       "      <td>massa.integer@outlook.org</td>\n",
       "      <td>Ap #634-7077 Arcu. Road</td>\n",
       "      <td>02-772</td>\n",
       "      <td>Alsace</td>\n",
       "      <td>3</td>\n",
       "      <td>France</td>\n",
       "      <td>$39.44</td>\n",
       "    </tr>\n",
       "    <tr>\n",
       "      <th>4</th>\n",
       "      <td>Silas Francis</td>\n",
       "      <td>1-575-591-8431</td>\n",
       "      <td>eu.sem@yahoo.net</td>\n",
       "      <td>Ap #935-1910 Ac Street</td>\n",
       "      <td>53792</td>\n",
       "      <td>Xīběi</td>\n",
       "      <td>2</td>\n",
       "      <td>Indonesia</td>\n",
       "      <td>$48.61</td>\n",
       "    </tr>\n",
       "  </tbody>\n",
       "</table>\n",
       "</div>"
      ],
      "text/plain": [
       "                name           phone                      email  \\\n",
       "0      Leandra Wiley  (985) 619-1145    morbi.tristique@aol.net   \n",
       "1  Demetrius Walters  (751) 122-4195     et.euismod@outlook.org   \n",
       "2           Kibo Fox  1-478-833-8145  enim.mi.tempor@icloud.org   \n",
       "3         Nora Poole  (518) 346-8444  massa.integer@outlook.org   \n",
       "4      Silas Francis  1-575-591-8431           eu.sem@yahoo.net   \n",
       "\n",
       "                   address postalZip            region  numberrange  \\\n",
       "0         185 Velit Avenue    741552          Rogaland            1   \n",
       "1        959-3029 Pede Rd.    187158  Central Sulawesi            7   \n",
       "2      807-7840 Luctus Rd.    561193          Veracruz            2   \n",
       "3  Ap #634-7077 Arcu. Road    02-772            Alsace            3   \n",
       "4   Ap #935-1910 Ac Street     53792             Xīběi            2   \n",
       "\n",
       "     country currency  \n",
       "0    Austria   $14.26  \n",
       "1   Colombia   $78.72  \n",
       "2     France   $17.29  \n",
       "3     France   $39.44  \n",
       "4  Indonesia   $48.61  "
      ]
     },
     "execution_count": 29,
     "metadata": {},
     "output_type": "execute_result"
    }
   ],
   "source": [
    "a.rename(columns={'Region':'Country'},inplace=True)\n",
    "a.head()"
   ]
  },
  {
   "cell_type": "code",
   "execution_count": 37,
   "id": "7d4d8108",
   "metadata": {},
   "outputs": [
    {
     "data": {
      "text/plain": [
       "Index(['name', 'phone', 'email', 'address', 'postalZip', 'region',\n",
       "       'numberrange', 'country', 'currency'],\n",
       "      dtype='object')"
      ]
     },
     "execution_count": 37,
     "metadata": {},
     "output_type": "execute_result"
    }
   ],
   "source": [
    "a.filter(like='name').columns\n",
    "a.columns"
   ]
  },
  {
   "cell_type": "code",
   "execution_count": null,
   "id": "6c7f74b3",
   "metadata": {},
   "outputs": [],
   "source": []
  },
  {
   "cell_type": "code",
   "execution_count": 46,
   "id": "45a5e5ad",
   "metadata": {},
   "outputs": [],
   "source": [
    "a.rename(columns={'name':'Full_name'},inplace=True)"
   ]
  },
  {
   "cell_type": "code",
   "execution_count": 48,
   "id": "ea8aa167",
   "metadata": {},
   "outputs": [
    {
     "data": {
      "text/plain": [
       "0        Leandra Wiley\n",
       "1    Demetrius Walters\n",
       "2             Kibo Fox\n",
       "3           Nora Poole\n",
       "4        Silas Francis\n",
       "5    George Livingston\n",
       "6        Ifeoma Franks\n",
       "7          Sybil Avila\n",
       "8      Channing Walker\n",
       "9         Thomas Carey\n",
       "Name: Full_name, dtype: object"
      ]
     },
     "execution_count": 48,
     "metadata": {},
     "output_type": "execute_result"
    }
   ],
   "source": [
    "a.Full_name\n"
   ]
  },
  {
   "cell_type": "code",
   "execution_count": 50,
   "id": "e0a52b5a",
   "metadata": {},
   "outputs": [
    {
     "data": {
      "text/plain": [
       "0        [Leandra, Wiley]\n",
       "1    [Demetrius, Walters]\n",
       "2             [Kibo, Fox]\n",
       "3           [Nora, Poole]\n",
       "4        [Silas, Francis]\n",
       "5    [George, Livingston]\n",
       "6        [Ifeoma, Franks]\n",
       "7          [Sybil, Avila]\n",
       "8      [Channing, Walker]\n",
       "9         [Thomas, Carey]\n",
       "Name: Full_name, dtype: object"
      ]
     },
     "execution_count": 50,
     "metadata": {},
     "output_type": "execute_result"
    }
   ],
   "source": [
    "a.Full_name.str.split(\" \")"
   ]
  },
  {
   "cell_type": "code",
   "execution_count": 54,
   "id": "66095ed0",
   "metadata": {},
   "outputs": [
    {
     "data": {
      "text/plain": [
       "0      Leandra\n",
       "1    Demetrius\n",
       "2         Kibo\n",
       "3         Nora\n",
       "4        Silas\n",
       "5       George\n",
       "6       Ifeoma\n",
       "7        Sybil\n",
       "8     Channing\n",
       "9       Thomas\n",
       "Name: firstname, dtype: object"
      ]
     },
     "execution_count": 54,
     "metadata": {},
     "output_type": "execute_result"
    }
   ],
   "source": [
    "a['firstname']=a.Full_name.str.split(\" \").str.get(0)\n",
    "a.firstname"
   ]
  },
  {
   "cell_type": "code",
   "execution_count": 55,
   "id": "f5af5251",
   "metadata": {},
   "outputs": [
    {
     "data": {
      "text/html": [
       "<div>\n",
       "<style scoped>\n",
       "    .dataframe tbody tr th:only-of-type {\n",
       "        vertical-align: middle;\n",
       "    }\n",
       "\n",
       "    .dataframe tbody tr th {\n",
       "        vertical-align: top;\n",
       "    }\n",
       "\n",
       "    .dataframe thead th {\n",
       "        text-align: right;\n",
       "    }\n",
       "</style>\n",
       "<table border=\"1\" class=\"dataframe\">\n",
       "  <thead>\n",
       "    <tr style=\"text-align: right;\">\n",
       "      <th></th>\n",
       "      <th>0</th>\n",
       "      <th>1</th>\n",
       "    </tr>\n",
       "  </thead>\n",
       "  <tbody>\n",
       "    <tr>\n",
       "      <th>0</th>\n",
       "      <td>Leandra</td>\n",
       "      <td>Wiley</td>\n",
       "    </tr>\n",
       "    <tr>\n",
       "      <th>1</th>\n",
       "      <td>Demetrius</td>\n",
       "      <td>Walters</td>\n",
       "    </tr>\n",
       "    <tr>\n",
       "      <th>2</th>\n",
       "      <td>Kibo</td>\n",
       "      <td>Fox</td>\n",
       "    </tr>\n",
       "    <tr>\n",
       "      <th>3</th>\n",
       "      <td>Nora</td>\n",
       "      <td>Poole</td>\n",
       "    </tr>\n",
       "    <tr>\n",
       "      <th>4</th>\n",
       "      <td>Silas</td>\n",
       "      <td>Francis</td>\n",
       "    </tr>\n",
       "    <tr>\n",
       "      <th>5</th>\n",
       "      <td>George</td>\n",
       "      <td>Livingston</td>\n",
       "    </tr>\n",
       "    <tr>\n",
       "      <th>6</th>\n",
       "      <td>Ifeoma</td>\n",
       "      <td>Franks</td>\n",
       "    </tr>\n",
       "    <tr>\n",
       "      <th>7</th>\n",
       "      <td>Sybil</td>\n",
       "      <td>Avila</td>\n",
       "    </tr>\n",
       "    <tr>\n",
       "      <th>8</th>\n",
       "      <td>Channing</td>\n",
       "      <td>Walker</td>\n",
       "    </tr>\n",
       "    <tr>\n",
       "      <th>9</th>\n",
       "      <td>Thomas</td>\n",
       "      <td>Carey</td>\n",
       "    </tr>\n",
       "  </tbody>\n",
       "</table>\n",
       "</div>"
      ],
      "text/plain": [
       "           0           1\n",
       "0    Leandra       Wiley\n",
       "1  Demetrius     Walters\n",
       "2       Kibo         Fox\n",
       "3       Nora       Poole\n",
       "4      Silas     Francis\n",
       "5     George  Livingston\n",
       "6     Ifeoma      Franks\n",
       "7      Sybil       Avila\n",
       "8   Channing      Walker\n",
       "9     Thomas       Carey"
      ]
     },
     "execution_count": 55,
     "metadata": {},
     "output_type": "execute_result"
    }
   ],
   "source": [
    "a.Full_name.str.split(\" \",n=1,expand=True)"
   ]
  },
  {
   "cell_type": "code",
   "execution_count": 57,
   "id": "48e73c63",
   "metadata": {},
   "outputs": [
    {
     "data": {
      "text/html": [
       "<div>\n",
       "<style scoped>\n",
       "    .dataframe tbody tr th:only-of-type {\n",
       "        vertical-align: middle;\n",
       "    }\n",
       "\n",
       "    .dataframe tbody tr th {\n",
       "        vertical-align: top;\n",
       "    }\n",
       "\n",
       "    .dataframe thead th {\n",
       "        text-align: right;\n",
       "    }\n",
       "</style>\n",
       "<table border=\"1\" class=\"dataframe\">\n",
       "  <thead>\n",
       "    <tr style=\"text-align: right;\">\n",
       "      <th></th>\n",
       "      <th>Full_name</th>\n",
       "      <th>phone</th>\n",
       "      <th>email</th>\n",
       "      <th>address</th>\n",
       "      <th>postalZip</th>\n",
       "      <th>region</th>\n",
       "      <th>numberrange</th>\n",
       "      <th>country</th>\n",
       "      <th>currency</th>\n",
       "      <th>firstname</th>\n",
       "    </tr>\n",
       "  </thead>\n",
       "  <tbody>\n",
       "    <tr>\n",
       "      <th>0</th>\n",
       "      <td>False</td>\n",
       "      <td>False</td>\n",
       "      <td>False</td>\n",
       "      <td>False</td>\n",
       "      <td>False</td>\n",
       "      <td>False</td>\n",
       "      <td>False</td>\n",
       "      <td>False</td>\n",
       "      <td>False</td>\n",
       "      <td>False</td>\n",
       "    </tr>\n",
       "    <tr>\n",
       "      <th>1</th>\n",
       "      <td>False</td>\n",
       "      <td>False</td>\n",
       "      <td>False</td>\n",
       "      <td>False</td>\n",
       "      <td>False</td>\n",
       "      <td>False</td>\n",
       "      <td>False</td>\n",
       "      <td>False</td>\n",
       "      <td>False</td>\n",
       "      <td>False</td>\n",
       "    </tr>\n",
       "    <tr>\n",
       "      <th>2</th>\n",
       "      <td>False</td>\n",
       "      <td>False</td>\n",
       "      <td>False</td>\n",
       "      <td>False</td>\n",
       "      <td>False</td>\n",
       "      <td>False</td>\n",
       "      <td>False</td>\n",
       "      <td>False</td>\n",
       "      <td>False</td>\n",
       "      <td>False</td>\n",
       "    </tr>\n",
       "    <tr>\n",
       "      <th>3</th>\n",
       "      <td>False</td>\n",
       "      <td>False</td>\n",
       "      <td>False</td>\n",
       "      <td>False</td>\n",
       "      <td>False</td>\n",
       "      <td>False</td>\n",
       "      <td>False</td>\n",
       "      <td>False</td>\n",
       "      <td>False</td>\n",
       "      <td>False</td>\n",
       "    </tr>\n",
       "    <tr>\n",
       "      <th>4</th>\n",
       "      <td>False</td>\n",
       "      <td>False</td>\n",
       "      <td>False</td>\n",
       "      <td>False</td>\n",
       "      <td>False</td>\n",
       "      <td>False</td>\n",
       "      <td>False</td>\n",
       "      <td>False</td>\n",
       "      <td>False</td>\n",
       "      <td>False</td>\n",
       "    </tr>\n",
       "    <tr>\n",
       "      <th>5</th>\n",
       "      <td>False</td>\n",
       "      <td>False</td>\n",
       "      <td>False</td>\n",
       "      <td>False</td>\n",
       "      <td>False</td>\n",
       "      <td>False</td>\n",
       "      <td>False</td>\n",
       "      <td>False</td>\n",
       "      <td>False</td>\n",
       "      <td>False</td>\n",
       "    </tr>\n",
       "    <tr>\n",
       "      <th>6</th>\n",
       "      <td>False</td>\n",
       "      <td>False</td>\n",
       "      <td>False</td>\n",
       "      <td>False</td>\n",
       "      <td>False</td>\n",
       "      <td>False</td>\n",
       "      <td>False</td>\n",
       "      <td>False</td>\n",
       "      <td>False</td>\n",
       "      <td>False</td>\n",
       "    </tr>\n",
       "    <tr>\n",
       "      <th>7</th>\n",
       "      <td>False</td>\n",
       "      <td>False</td>\n",
       "      <td>False</td>\n",
       "      <td>False</td>\n",
       "      <td>False</td>\n",
       "      <td>False</td>\n",
       "      <td>False</td>\n",
       "      <td>False</td>\n",
       "      <td>False</td>\n",
       "      <td>False</td>\n",
       "    </tr>\n",
       "    <tr>\n",
       "      <th>8</th>\n",
       "      <td>False</td>\n",
       "      <td>False</td>\n",
       "      <td>False</td>\n",
       "      <td>False</td>\n",
       "      <td>False</td>\n",
       "      <td>False</td>\n",
       "      <td>False</td>\n",
       "      <td>False</td>\n",
       "      <td>False</td>\n",
       "      <td>False</td>\n",
       "    </tr>\n",
       "    <tr>\n",
       "      <th>9</th>\n",
       "      <td>False</td>\n",
       "      <td>False</td>\n",
       "      <td>False</td>\n",
       "      <td>False</td>\n",
       "      <td>False</td>\n",
       "      <td>False</td>\n",
       "      <td>False</td>\n",
       "      <td>False</td>\n",
       "      <td>False</td>\n",
       "      <td>False</td>\n",
       "    </tr>\n",
       "  </tbody>\n",
       "</table>\n",
       "</div>"
      ],
      "text/plain": [
       "   Full_name  phone  email  address  postalZip  region  numberrange  country  \\\n",
       "0      False  False  False    False      False   False        False    False   \n",
       "1      False  False  False    False      False   False        False    False   \n",
       "2      False  False  False    False      False   False        False    False   \n",
       "3      False  False  False    False      False   False        False    False   \n",
       "4      False  False  False    False      False   False        False    False   \n",
       "5      False  False  False    False      False   False        False    False   \n",
       "6      False  False  False    False      False   False        False    False   \n",
       "7      False  False  False    False      False   False        False    False   \n",
       "8      False  False  False    False      False   False        False    False   \n",
       "9      False  False  False    False      False   False        False    False   \n",
       "\n",
       "   currency  firstname  \n",
       "0     False      False  \n",
       "1     False      False  \n",
       "2     False      False  \n",
       "3     False      False  \n",
       "4     False      False  \n",
       "5     False      False  \n",
       "6     False      False  \n",
       "7     False      False  \n",
       "8     False      False  \n",
       "9     False      False  "
      ]
     },
     "execution_count": 57,
     "metadata": {},
     "output_type": "execute_result"
    }
   ],
   "source": [
    "a.isnull()"
   ]
  },
  {
   "cell_type": "code",
   "execution_count": 59,
   "id": "bd5d8f32",
   "metadata": {},
   "outputs": [
    {
     "data": {
      "text/plain": [
       "Full_name      0\n",
       "phone          0\n",
       "email          0\n",
       "address        0\n",
       "postalZip      0\n",
       "region         0\n",
       "numberrange    0\n",
       "country        0\n",
       "currency       0\n",
       "firstname      0\n",
       "dtype: int64"
      ]
     },
     "execution_count": 59,
     "metadata": {},
     "output_type": "execute_result"
    }
   ],
   "source": [
    "a.isnull().any()\n",
    "a.isnull().sum()"
   ]
  }
 ],
 "metadata": {
  "kernelspec": {
   "display_name": "Python 3 (ipykernel)",
   "language": "python",
   "name": "python3"
  },
  "language_info": {
   "codemirror_mode": {
    "name": "ipython",
    "version": 3
   },
   "file_extension": ".py",
   "mimetype": "text/x-python",
   "name": "python",
   "nbconvert_exporter": "python",
   "pygments_lexer": "ipython3",
   "version": "3.10.8"
  }
 },
 "nbformat": 4,
 "nbformat_minor": 5
}
